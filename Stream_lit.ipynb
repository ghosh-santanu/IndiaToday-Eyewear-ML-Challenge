{
  "nbformat": 4,
  "nbformat_minor": 0,
  "metadata": {
    "colab": {
      "name": "Stream-lit.ipynb",
      "provenance": []
    },
    "kernelspec": {
      "name": "python3",
      "display_name": "Python 3"
    },
    "language_info": {
      "name": "python"
    }
  },
  "cells": [
    {
      "cell_type": "code",
      "execution_count": 1,
      "metadata": {
        "colab": {
          "base_uri": "https://localhost:8080/"
        },
        "id": "l91dd_THq2Pd",
        "outputId": "8f9c2dcf-f8fa-4258-caaf-bfd541e27d5b"
      },
      "outputs": [
        {
          "output_type": "stream",
          "name": "stdout",
          "text": [
            "\u001b[K     |████████████████████████████████| 9.2 MB 4.9 MB/s \n",
            "\u001b[K     |████████████████████████████████| 4.3 MB 28.2 MB/s \n",
            "\u001b[K     |████████████████████████████████| 164 kB 72.0 MB/s \n",
            "\u001b[K     |████████████████████████████████| 76 kB 4.6 MB/s \n",
            "\u001b[K     |████████████████████████████████| 180 kB 61.6 MB/s \n",
            "\u001b[K     |████████████████████████████████| 111 kB 59.4 MB/s \n",
            "\u001b[K     |████████████████████████████████| 63 kB 1.6 MB/s \n",
            "\u001b[K     |████████████████████████████████| 126 kB 71.5 MB/s \n",
            "\u001b[K     |████████████████████████████████| 792 kB 71.4 MB/s \n",
            "\u001b[K     |████████████████████████████████| 374 kB 75.6 MB/s \n",
            "\u001b[?25h  Building wheel for blinker (setup.py) ... \u001b[?25l\u001b[?25hdone\n",
            "\u001b[31mERROR: pip's dependency resolver does not currently take into account all the packages that are installed. This behaviour is the source of the following dependency conflicts.\n",
            "jupyter-console 5.2.0 requires prompt-toolkit<2.0.0,>=1.0.0, but you have prompt-toolkit 3.0.24 which is incompatible.\n",
            "google-colab 1.0.0 requires ipykernel~=4.10, but you have ipykernel 6.6.1 which is incompatible.\n",
            "google-colab 1.0.0 requires ipython~=5.5.0, but you have ipython 7.31.0 which is incompatible.\u001b[0m\n",
            "  Building wheel for pyngrok (setup.py) ... \u001b[?25l\u001b[?25hdone\n"
          ]
        }
      ],
      "source": [
        "!pip install streamlit --quiet\n",
        "!pip install pyngrok==4.1.1 --quiet\n",
        "from pyngrok import ngrok"
      ]
    },
    {
      "cell_type": "code",
      "source": [
        "from google.colab import drive\n",
        "drive.mount('drive')"
      ],
      "metadata": {
        "colab": {
          "base_uri": "https://localhost:8080/"
        },
        "id": "tU0ndKo4q_mw",
        "outputId": "97eb0cb3-eea1-4cbc-a350-114f2fa03dbf"
      },
      "execution_count": 2,
      "outputs": [
        {
          "output_type": "stream",
          "name": "stdout",
          "text": [
            "Mounted at drive\n"
          ]
        }
      ]
    },
    {
      "cell_type": "code",
      "source": [
        ""
      ],
      "metadata": {
        "id": "LChaVkL2rK0C"
      },
      "execution_count": null,
      "outputs": []
    },
    {
      "cell_type": "code",
      "source": [
        "%%writefile app.py\n",
        "import streamlit as st\n",
        "import tensorflow as tf\n",
        "\n",
        "import numpy as np\n",
        "from PIL import Image # Strreamlit works with PIL library very easily for Images\n",
        "import cv2\n",
        "\n",
        "model_path='/content/drive/MyDrive/Eyewear/Eyewear_ml_challenge/model-eyewear.h5'\n",
        "\n",
        "st.title(\"Eyewear Selection\")\n",
        "upload = st.file_uploader('Upload a Eyewear Image')\n",
        "\n",
        "if upload is not None:\n",
        "  file_bytes = np.asarray(bytearray(upload.read()), dtype=np.uint8)\n",
        "  opencv_image = cv2.imdecode(file_bytes, 1)\n",
        "  opencv_image = cv2.cvtColor(opencv_image,cv2.COLOR_BGR2RGB) # Color from BGR to RGB\n",
        "  img = Image.open(upload)\n",
        "  st.image(img,caption='Uploaded Image',width=300)\n",
        "  if(st.button('Predict')):\n",
        "    model = tf.keras.models.load_model(model_path)\n",
        "    x = cv2.resize(opencv_image,(100,100))\n",
        "    x = np.expand_dims(x,axis=0)    \n",
        "    y = model.predict(x)\n",
        "    ans=np.argmax(y,axis=1)\n",
        "    if(ans==0):\n",
        "      st.title('EyeFrame')\n",
        "    elif(ans==1):\n",
        "      st.title('NonPowerReading')\n",
        "    else:\n",
        "      st.title('Sunglasses')"
      ],
      "metadata": {
        "colab": {
          "base_uri": "https://localhost:8080/"
        },
        "id": "52qZWqDEmoLT",
        "outputId": "e0b4eea2-7d02-44aa-a083-e991867724b5"
      },
      "execution_count": 3,
      "outputs": [
        {
          "output_type": "stream",
          "name": "stdout",
          "text": [
            "Writing app.py\n"
          ]
        }
      ]
    },
    {
      "cell_type": "code",
      "source": [
        "!nohup streamlit run app.py & \n",
        "\n",
        "url = ngrok.connect(port = '8501')\n",
        "url #generates our URL"
      ],
      "metadata": {
        "colab": {
          "base_uri": "https://localhost:8080/",
          "height": 53
        },
        "id": "9UmdShbrrMA1",
        "outputId": "438d8291-c1b4-4c58-a04f-74a71c048d4c"
      },
      "execution_count": 4,
      "outputs": [
        {
          "output_type": "stream",
          "name": "stdout",
          "text": [
            "nohup: appending output to 'nohup.out'\n"
          ]
        },
        {
          "output_type": "execute_result",
          "data": {
            "application/vnd.google.colaboratory.intrinsic+json": {
              "type": "string"
            },
            "text/plain": [
              "'http://4778-35-243-200-149.ngrok.io'"
            ]
          },
          "metadata": {},
          "execution_count": 4
        }
      ]
    }
  ]
}